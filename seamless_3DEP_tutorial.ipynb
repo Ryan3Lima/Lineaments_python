{
 "cells": [
  {
   "cell_type": "code",
   "execution_count": 1,
   "metadata": {},
   "outputs": [
    {
     "name": "stdout",
     "output_type": "stream",
     "text": [
      "Top Left (lat/lon):     (35.187808, -117.625005)\n",
      "Bottom Right (lat/lon): (35.124707, -117.562519)\n"
     ]
    }
   ],
   "source": [
    "from pyproj import Transformer\n",
    "\n",
    "# Define transformer: NAD83(2011) / UTM Zone 12N → WGS 84 (EPSG:4326)\n",
    "transformer = Transformer.from_crs(\"EPSG:6340\", \"EPSG:4326\", always_xy=True)\n",
    "\n",
    "# Your bounding box\n",
    "left, right = 443053.498629, 448786.498629\n",
    "bottom, top = 3887051.494356, 3894015.494356\n",
    "\n",
    "# Convert corners\n",
    "min_lon, min_lat = transformer.transform(left, bottom)\n",
    "max_lon, max_lat = transformer.transform(right, top)\n",
    "\n",
    "print(f\"Top Left (lat/lon):     ({max_lat:.6f}, {min_lon:.6f})\")\n",
    "print(f\"Bottom Right (lat/lon): ({min_lat:.6f}, {max_lon:.6f})\")"
   ]
  },
  {
   "cell_type": "code",
   "execution_count": 16,
   "metadata": {},
   "outputs": [
    {
     "name": "stdout",
     "output_type": "stream",
     "text": [
      "Top Left (lat/lon):     (35.187808, -111.625005)\n",
      "Bottom Right (lat/lon): (35.124707, -111.562519)\n"
     ]
    }
   ],
   "source": [
    "from pyproj import Transformer\n",
    "\n",
    "# Define transformer: NAD83(2011) / UTM Zone 12N → WGS 84\n",
    "transformer = Transformer.from_crs(\"EPSG:6341\", \"EPSG:4326\", always_xy=True)\n",
    "\n",
    "# Define corners\n",
    "left, right = 443053.498629, 448786.498629\n",
    "bottom, top = 3887051.494356, 3894015.494356\n",
    "\n",
    "# Transform corners\n",
    "min_lon, min_lat = transformer.transform(left, bottom)   # Lower left\n",
    "max_lon, max_lat = transformer.transform(right, top)     # Upper right\n",
    "\n",
    "print(f\"Top Left (lat/lon):     ({max_lat:.6f}, {min_lon:.6f})\")\n",
    "print(f\"Bottom Right (lat/lon): ({min_lat:.6f}, {max_lon:.6f})\")\n"
   ]
  },
  {
   "cell_type": "code",
   "execution_count": 2,
   "metadata": {},
   "outputs": [],
   "source": [
    "from pathlib import Path\n",
    "import seamless_3dep as s3dep\n",
    "import rioxarray as rxr"
   ]
  },
  {
   "cell_type": "code",
   "execution_count": 24,
   "metadata": {},
   "outputs": [],
   "source": [
    "# Define area of interest (west, south, east, north)\n",
    "#bbox = (-105.7006276, 39.8472777, -104.869054, 40.298293)\n",
    "bbox = (min_lon,min_lat,max_lon,max_lat)\n",
    "data_dir = Path(r\"G:\\Lineaments_python\")\n"
   ]
  },
  {
   "cell_type": "code",
   "execution_count": 26,
   "metadata": {},
   "outputs": [],
   "source": [
    "# Download DEM\n",
    "tiff_files = s3dep.get_dem(bbox, data_dir)\n",
    "\n",
    "# Convert to xarray.DataArray\n",
    "dem = s3dep.tiffs_to_da(tiff_files, bbox, crs=4326)"
   ]
  },
  {
   "cell_type": "code",
   "execution_count": 34,
   "metadata": {},
   "outputs": [],
   "source": [
    "mdhs = s3dep.get_map(\n",
    "    map_type='Hillshade Multidirectional', bbox=bbox, save_dir=data_dir, res=10)\n",
    "dem = s3dep.tiffs_to_da(mdhs,bbox)"
   ]
  },
  {
   "cell_type": "code",
   "execution_count": null,
   "metadata": {},
   "outputs": [
    {
     "data": {
      "text/plain": [
       "dtype('float32')"
      ]
     },
     "execution_count": 31,
     "metadata": {},
     "output_type": "execute_result"
    }
   ],
   "source": [
    "dem.dtype\n",
    "\n",
    "dem.save()"
   ]
  }
 ],
 "metadata": {
  "kernelspec": {
   "display_name": ".venv",
   "language": "python",
   "name": "python3"
  },
  "language_info": {
   "codemirror_mode": {
    "name": "ipython",
    "version": 3
   },
   "file_extension": ".py",
   "mimetype": "text/x-python",
   "name": "python",
   "nbconvert_exporter": "python",
   "pygments_lexer": "ipython3",
   "version": "3.13.1"
  }
 },
 "nbformat": 4,
 "nbformat_minor": 2
}
