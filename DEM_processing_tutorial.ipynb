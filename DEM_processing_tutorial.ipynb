{
 "cells": [
  {
   "cell_type": "code",
   "execution_count": null,
   "metadata": {},
   "outputs": [],
   "source": [
    "---\n",
    "title: \"DEM Processing for Lineament Extraction\"\n",
    "author: \"Ryan E Lima\"\n",
    "email: Ryan.Lima@nau.edu\n",
    "format: html\n",
    "license: \"CC BY 4.0\"\n",
    "---"
   ]
  },
  {
   "cell_type": "code",
   "execution_count": null,
   "metadata": {},
   "outputs": [],
   "source": []
  }
 ],
 "metadata": {
  "language_info": {
   "name": "python"
  }
 },
 "nbformat": 4,
 "nbformat_minor": 2
}
