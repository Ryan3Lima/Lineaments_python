{
 "cells": [
  {
   "cell_type": "markdown",
   "metadata": {},
   "source": [
    "---\n",
    "title: \"Hough Transformation\"\n",
    "author: \"Ryan E Lima\"\n",
    "email: Ryan.Lima@nau.edu\n",
    "format: html\n",
    "license: \"CC BY 4.0\"\n",
    "---"
   ]
  },
  {
   "cell_type": "code",
   "execution_count": 1,
   "metadata": {},
   "outputs": [
    {
     "ename": "AttributeError",
     "evalue": "module 'matplotlib.cm' has no attribute 'register_cmap'",
     "output_type": "error",
     "traceback": [
      "\u001b[31m---------------------------------------------------------------------------\u001b[39m",
      "\u001b[31mAttributeError\u001b[39m                            Traceback (most recent call last)",
      "\u001b[36mCell\u001b[39m\u001b[36m \u001b[39m\u001b[32mIn[1]\u001b[39m\u001b[32m, line 9\u001b[39m\n\u001b[32m      7\u001b[39m \u001b[38;5;28;01mfrom\u001b[39;00m\u001b[38;5;250m \u001b[39m\u001b[34;01mIPython\u001b[39;00m\u001b[34;01m.\u001b[39;00m\u001b[34;01mdisplay\u001b[39;00m\u001b[38;5;250m \u001b[39m\u001b[38;5;28;01mimport\u001b[39;00m display\n\u001b[32m      8\u001b[39m \u001b[38;5;28;01mfrom\u001b[39;00m\u001b[38;5;250m \u001b[39m\u001b[34;01mmatplotlib\u001b[39;00m\u001b[34;01m.\u001b[39;00m\u001b[34;01mcolors\u001b[39;00m\u001b[38;5;250m \u001b[39m\u001b[38;5;28;01mimport\u001b[39;00m LightSource\n\u001b[32m----> \u001b[39m\u001b[32m9\u001b[39m \u001b[38;5;28;01mimport\u001b[39;00m\u001b[38;5;250m \u001b[39m\u001b[34;01mhyoga\u001b[39;00m\n",
      "\u001b[36mFile \u001b[39m\u001b[32mc:\\Users\\rl587\\Documents\\Lineaments_python\\.venv\\Lib\\site-packages\\hyoga\\__init__.py:10\u001b[39m\n\u001b[32m      7\u001b[39m \u001b[38;5;28;01mfrom\u001b[39;00m\u001b[38;5;250m \u001b[39m\u001b[34;01m.\u001b[39;00m\u001b[38;5;250m \u001b[39m\u001b[38;5;28;01mimport\u001b[39;00m \u001b[38;5;28mopen\u001b[39m\n\u001b[32m      9\u001b[39m \u001b[38;5;66;03m# object imports\u001b[39;00m\n\u001b[32m---> \u001b[39m\u001b[32m10\u001b[39m \u001b[38;5;28;01mfrom\u001b[39;00m\u001b[38;5;250m \u001b[39m\u001b[34;01m.\u001b[39;00m\u001b[34;01mcore\u001b[39;00m\u001b[34;01m.\u001b[39;00m\u001b[34;01maccessor\u001b[39;00m\u001b[38;5;250m \u001b[39m\u001b[38;5;28;01mimport\u001b[39;00m HyogaDataset\n\u001b[32m     11\u001b[39m \u001b[38;5;28;01mfrom\u001b[39;00m\u001b[38;5;250m \u001b[39m\u001b[34;01m.\u001b[39;00m\u001b[34;01mcore\u001b[39;00m\u001b[34;01m.\u001b[39;00m\u001b[34;01mconfig\u001b[39;00m\u001b[38;5;250m \u001b[39m\u001b[38;5;28;01mimport\u001b[39;00m config\n\u001b[32m     13\u001b[39m __all__ = [\n\u001b[32m     14\u001b[39m     \u001b[33m'\u001b[39m\u001b[33mopen\u001b[39m\u001b[33m'\u001b[39m,\n\u001b[32m     15\u001b[39m     \u001b[33m'\u001b[39m\u001b[33mconfig\u001b[39m\u001b[33m'\u001b[39m, \u001b[33m'\u001b[39m\u001b[33mHyogaDataset\u001b[39m\u001b[33m'\u001b[39m]\n",
      "\u001b[36mFile \u001b[39m\u001b[32mc:\\Users\\rl587\\Documents\\Lineaments_python\\.venv\\Lib\\site-packages\\hyoga\\core\\accessor.py:18\u001b[39m\n\u001b[32m     15\u001b[39m \u001b[38;5;28;01mimport\u001b[39;00m\u001b[38;5;250m \u001b[39m\u001b[34;01mxarray\u001b[39;00m\u001b[38;5;250m \u001b[39m\u001b[38;5;28;01mas\u001b[39;00m\u001b[38;5;250m \u001b[39m\u001b[34;01mxr\u001b[39;00m\n\u001b[32m     16\u001b[39m \u001b[38;5;28;01mimport\u001b[39;00m\u001b[38;5;250m \u001b[39m\u001b[34;01mcf_xarray\u001b[39;00m  \u001b[38;5;66;03m# noqa pylint: disable=unused-import\u001b[39;00m\n\u001b[32m---> \u001b[39m\u001b[32m18\u001b[39m \u001b[38;5;28;01mimport\u001b[39;00m\u001b[38;5;250m \u001b[39m\u001b[34;01mhyoga\u001b[39;00m\u001b[34;01m.\u001b[39;00m\u001b[34;01mplot\u001b[39;00m\u001b[34;01m.\u001b[39;00m\u001b[34;01mdatasets\u001b[39;00m\n\u001b[32m     21\u001b[39m \u001b[38;5;28;01mdef\u001b[39;00m\u001b[38;5;250m \u001b[39m\u001b[34m_coords_from_axes\u001b[39m(ax):\n\u001b[32m     22\u001b[39m \u001b[38;5;250m    \u001b[39m\u001b[33;03m\"\"\"Compute coordinate vectors from matplotlib axes.\"\"\"\u001b[39;00m\n",
      "\u001b[36mFile \u001b[39m\u001b[32mc:\\Users\\rl587\\Documents\\Lineaments_python\\.venv\\Lib\\site-packages\\hyoga\\plot\\datasets.py:15\u001b[39m\n\u001b[32m     13\u001b[39m \u001b[38;5;28;01mimport\u001b[39;00m\u001b[38;5;250m \u001b[39m\u001b[34;01mmatplotlib\u001b[39;00m\u001b[38;5;250m \u001b[39m\u001b[38;5;28;01mas\u001b[39;00m\u001b[38;5;250m \u001b[39m\u001b[34;01mmpl\u001b[39;00m\n\u001b[32m     14\u001b[39m \u001b[38;5;28;01mimport\u001b[39;00m\u001b[38;5;250m \u001b[39m\u001b[34;01mmatplotlib\u001b[39;00m\u001b[34;01m.\u001b[39;00m\u001b[34;01mpyplot\u001b[39;00m\u001b[38;5;250m \u001b[39m\u001b[38;5;28;01mas\u001b[39;00m\u001b[38;5;250m \u001b[39m\u001b[34;01mplt\u001b[39;00m\n\u001b[32m---> \u001b[39m\u001b[32m15\u001b[39m \u001b[38;5;28;01mimport\u001b[39;00m\u001b[38;5;250m \u001b[39m\u001b[34;01mhyoga\u001b[39;00m\u001b[34;01m.\u001b[39;00m\u001b[34;01mplot\u001b[39;00m\u001b[34;01m.\u001b[39;00m\u001b[34;01mcolormaps\u001b[39;00m\n\u001b[32m     16\u001b[39m \u001b[38;5;28;01mimport\u001b[39;00m\u001b[38;5;250m \u001b[39m\u001b[34;01mhyoga\u001b[39;00m\u001b[34;01m.\u001b[39;00m\u001b[34;01mplot\u001b[39;00m\u001b[34;01m.\u001b[39;00m\u001b[34;01mhillshade\u001b[39;00m\n\u001b[32m     17\u001b[39m \u001b[38;5;28;01mimport\u001b[39;00m\u001b[38;5;250m \u001b[39m\u001b[34;01mhyoga\u001b[39;00m\u001b[34;01m.\u001b[39;00m\u001b[34;01mplot\u001b[39;00m\u001b[34;01m.\u001b[39;00m\u001b[34;01mscalebar\u001b[39;00m\n",
      "\u001b[36mFile \u001b[39m\u001b[32mc:\\Users\\rl587\\Documents\\Lineaments_python\\.venv\\Lib\\site-packages\\hyoga\\plot\\colormaps.py:85\u001b[39m\n\u001b[32m     83\u001b[39m \u001b[38;5;28;01melse\u001b[39;00m:\n\u001b[32m     84\u001b[39m     \u001b[38;5;28;01mfor\u001b[39;00m cmap \u001b[38;5;129;01min\u001b[39;00m COLORMAPS.values():\n\u001b[32m---> \u001b[39m\u001b[32m85\u001b[39m         \u001b[43mmpl\u001b[49m\u001b[43m.\u001b[49m\u001b[43mcm\u001b[49m\u001b[43m.\u001b[49m\u001b[43mregister_cmap\u001b[49m(cmap=cmap)\n",
      "\u001b[31mAttributeError\u001b[39m: module 'matplotlib.cm' has no attribute 'register_cmap'"
     ]
    }
   ],
   "source": [
    "import cv2\n",
    "import numpy as np\n",
    "import matplotlib.pyplot as plt\n",
    "from scipy.ndimage import sobel, gaussian_filter\n",
    "import rasterio\n",
    "import ipywidgets as widgets\n",
    "from IPython.display import display\n",
    "from matplotlib.colors import LightSource\n",
    "import hyoga\n"
   ]
  },
  {
   "cell_type": "code",
   "execution_count": null,
   "metadata": {},
   "outputs": [],
   "source": [
    "def plot_raster_histogram(array, title=\"Histogram\", bins=100, log_scale=False, nodata=None):\n",
    "    \"\"\"\n",
    "    Plot histogram of a raster array.\n",
    "\n",
    "    Parameters:\n",
    "        array (2D np.array): The raster data (e.g., DEM, hillshade).\n",
    "        title (str): Title of the plot.\n",
    "        bins (int): Number of bins in the histogram.\n",
    "        log_scale (bool): If True, use log scale on y-axis.\n",
    "        nodata (numeric or None): Value to ignore (e.g., -9999). If None, will ignore NaN.\n",
    "    \"\"\"\n",
    "    # Mask NoData values\n",
    "    if nodata is not None:\n",
    "        array = np.ma.masked_equal(array, nodata)\n",
    "    else:\n",
    "        array = np.ma.masked_invalid(array)\n",
    "\n",
    "    # Flatten and filter masked values\n",
    "    data = array.compressed()\n",
    "\n",
    "    plt.figure(figsize=(10, 5))\n",
    "    plt.hist(data, bins=bins, edgecolor='black')\n",
    "    plt.title(title)\n",
    "    plt.xlabel(\"Pixel Value\")\n",
    "    plt.ylabel(\"Frequency\")\n",
    "    if log_scale:\n",
    "        plt.yscale('log')\n",
    "        plt.ylabel(\"Frequency (log scale)\")\n",
    "    plt.grid(True, linestyle='--', alpha=0.3)\n",
    "    plt.tight_layout()\n",
    "    plt.show()"
   ]
  },
  {
   "cell_type": "code",
   "execution_count": null,
   "metadata": {},
   "outputs": [],
   "source": [
    "def plot_raster(array, title=\"Raster\", cmap=\"terrain\", vmin=None, vmax=None, colorbar=True):\n",
    "    \"\"\"\n",
    "    Plots a DEM or hillshade raster array using matplotlib.\n",
    "\n",
    "    Parameters:\n",
    "        array (2D np.array): The raster to plot (DEM or hillshade).\n",
    "        title (str): Plot title.\n",
    "        cmap (str): Matplotlib colormap (e.g., 'terrain', 'gray').\n",
    "        vmin (float): Minimum display value (optional).\n",
    "        vmax (float): Maximum display value (optional).\n",
    "        colorbar (bool): Whether to show colorbar.\n",
    "    \"\"\"\n",
    "    plt.figure(figsize=(10, 6))\n",
    "    img = plt.imshow(array, cmap=cmap, vmin=vmin, vmax=vmax)\n",
    "    plt.title(title)\n",
    "    plt.axis('off')\n",
    "    if colorbar:\n",
    "        plt.colorbar(img, shrink=0.7, label=\"Value\")\n",
    "    plt.tight_layout()\n",
    "    plt.show()"
   ]
  },
  {
   "cell_type": "code",
   "execution_count": null,
   "metadata": {},
   "outputs": [
    {
     "name": "stdout",
     "output_type": "stream",
     "text": []
    },
    {
     "name": "stdout",
     "output_type": "stream",
     "text": []
    }
   ],
   "source": [
    "\n",
    "# Load and preprocess the DEM\n",
    "raster_path = r\"G:\\Lineaments_python\\LM1_10m_mshs.tiff\"\n",
    "with rasterio.open(raster_path) as src:\n",
    "    mdhs = src.read(1).astype(float)\n",
    "    nodata = src.nodata if src.nodata is not None else -9999\n",
    "\n",
    "plot_raster_histogram(mdhs)\n",
    "\n",
    "\n",
    "\n",
    "# Preview it\n",
    "import matplotlib.pyplot as plt\n",
    "plt.imshow(mdhs, cmap='viridis')\n",
    "plt.title(\"MultiDirectional Hillshade\")\n",
    "plt.axis('off')\n",
    "plt.show()\n",
    "\n",
    "\n"
   ]
  },
  {
   "cell_type": "code",
   "execution_count": null,
   "metadata": {},
   "outputs": [
    {
     "name": "stdout",
     "output_type": "stream",
     "text": []
    }
   ],
   "source": [
    "\n",
    "# Optional smoothing and gradient\n",
    "mdhs_smooth = gaussian_filter(mdhs, sigma=1)\n",
    "gx = sobel(mdhs_smooth, axis=1)\n",
    "gy = sobel(mdhs_smooth, axis=0)\n",
    "grad_mag = np.hypot(gx, gy).astype(np.uint8)\n",
    "mdhs_smooth = mdhs_smooth.astype(np.uint8)\n",
    "\n",
    "plot_raster(mdhs_smooth)\n"
   ]
  },
  {
   "cell_type": "code",
   "execution_count": null,
   "metadata": {},
   "outputs": [
    {
     "name": "stdout",
     "output_type": "stream",
     "text": []
    },
    {
     "name": "stdout",
     "output_type": "stream",
     "text": []
    }
   ],
   "source": [
    "# Sliders for Canny thresholds\n",
    "low_thresh = widgets.IntSlider(value=10, min=0, max=255, step=1, description='Low:')\n",
    "high_thresh = widgets.IntSlider(value=50, min=1, max=255, step=1, description='High:')\n",
    "\n",
    "# Ensure high threshold is always >= low threshold\n",
    "def update_edges(low, high, array=mdhs_smooth):\n",
    "    if low >= high:\n",
    "        print(\"Low threshold must be less than high threshold.\")\n",
    "        return\n",
    "    edge_output = cv2.Canny(array, low, high)\n",
    "\n",
    "    plt.figure(figsize=(10, 6))\n",
    "    plt.imshow(edge_output, cmap='gray')\n",
    "    plt.title(f'Canny on Gradient Magnitude (Low={low}, High={high})')\n",
    "    plt.axis('off')\n",
    "    plt.show()\n",
    "\n",
    "# Set up interactive display\n",
    "ui = widgets.HBox([low_thresh, high_thresh])\n",
    "out = widgets.interactive_output(update_edges, {'low': low_thresh, 'high': high_thresh})\n",
    "\n",
    "display(ui, out)\n"
   ]
  },
  {
   "cell_type": "code",
   "execution_count": null,
   "metadata": {},
   "outputs": [],
   "source": [
    "edges = cv2.Canny(grad_mag, 45, 60)"
   ]
  },
  {
   "cell_type": "code",
   "execution_count": null,
   "metadata": {},
   "outputs": [
    {
     "name": "stdout",
     "output_type": "stream",
     "text": []
    }
   ],
   "source": [
    "\n",
    "\n",
    "# Plot the rasters in a 2x2 layout\n",
    "fig, axes = plt.subplots(2, 2, figsize=(12, 12))\n",
    "\n",
    "# Plot dem_norm\n",
    "axes[0, 0].imshow(mdhs, cmap='gray')\n",
    "axes[0, 0].set_title(\"Multi-Directional Hillshade\")\n",
    "axes[0, 0].axis('off')\n",
    "\n",
    "# Plot edges in red over dem_uint8\n",
    "axes[0, 1].imshow(mdhs, cmap='gray')\n",
    "axes[0, 1].imshow(edges, cmap='Reds', alpha=0.5)\n",
    "axes[0, 1].set_title(\"MDHS with Edges\")\n",
    "axes[0, 1].axis('off')\n",
    "\n",
    "# Plot dem_smooth\n",
    "axes[1, 0].imshow(mdhs_smooth, cmap='viridis')\n",
    "axes[1, 0].set_title(\"Smoothed mdhs\")\n",
    "axes[1, 0].axis('off')\n",
    "\n",
    "# Plot grad_mag\n",
    "axes[1, 1].imshow(grad_mag, cmap='viridis')\n",
    "axes[1, 1].set_title(\"Gradient Magnitude\")\n",
    "axes[1, 1].axis('off')\n",
    "\n",
    "# Add colorbars to all plots\n",
    "for ax, data, cmap in zip(axes.flatten(), \n",
    "                          [dem_norm, dem_uint8, dem_smooth, grad_mag], \n",
    "                          ['grey', 'grey', 'viridis', 'viridis']):\n",
    "    im = ax.images[0]  # Get the first image in the Axes\n",
    "    fig.colorbar(im, ax=ax, orientation='vertical', fraction=0.046, pad=0.04)\n",
    "\n",
    "plt.tight_layout()\n",
    "plt.show()\n",
    "\n"
   ]
  },
  {
   "cell_type": "code",
   "execution_count": null,
   "metadata": {},
   "outputs": [
    {
     "name": "stdout",
     "output_type": "stream",
     "text": []
    },
    {
     "name": "stdout",
     "output_type": "stream",
     "text": []
    }
   ],
   "source": [
    "\n",
    "\n",
    "# Hough parameter sliders\n",
    "threshold_slider = widgets.IntSlider(value=50, min=10, max=255, step=10, description='Threshold')\n",
    "min_line_length_slider = widgets.IntSlider(value=30, min=5, max=200, step=5, description='Min Length')\n",
    "max_line_gap_slider = widgets.IntSlider(value=5, min=0, max=50, step=1, description='Max Gap')\n",
    "\n",
    "def hough_plot(threshold, min_line_length, max_line_gap):\n",
    "    img_color = cv2.cvtColor(mdhs_smooth, cv2.COLOR_GRAY2BGR)\n",
    "    lines = cv2.HoughLinesP(edges, 1, np.pi / 180, threshold,\n",
    "                            minLineLength=min_line_length, maxLineGap=max_line_gap)\n",
    "\n",
    "    if lines is not None:\n",
    "        for line in lines:\n",
    "            x1, y1, x2, y2 = line[0]\n",
    "            cv2.line(img_color, (x1, y1), (x2, y2), (0, 255, 0), 2)\n",
    "\n",
    "    plt.figure(figsize=(12, 10))\n",
    "    plt.imshow(img_color)\n",
    "    plt.title(\"Hough Lines Detected\")\n",
    "    plt.axis('off')\n",
    "    plt.show()\n",
    "\n",
    "# Build the interactive widget\n",
    "ui = widgets.VBox([threshold_slider, min_line_length_slider, max_line_gap_slider])\n",
    "out = widgets.interactive_output(hough_plot, {\n",
    "    'threshold': threshold_slider,\n",
    "    'min_line_length': min_line_length_slider,\n",
    "    'max_line_gap': max_line_gap_slider\n",
    "})\n",
    "\n",
    "display(ui, out)\n"
   ]
  },
  {
   "cell_type": "code",
   "execution_count": null,
   "metadata": {},
   "outputs": [],
   "source": [
    "import geopandas as gpd\n",
    "from shapely.geometry import LineString\n",
    "import rasterio\n",
    "\n",
    "lines_list = []\n",
    "\n",
    "# For geographic projection\n",
    "with rasterio.open(raster_path) as src:\n",
    "    transform = src.transform\n",
    "    crs = src.crs\n",
    "\n",
    "\n",
    "\n",
    "\n",
    "gdf = gpd.GeoDataFrame(geometry=lines_list, crs=crs)\n",
    "# Extract contours from the edges\n",
    "contours, _ = cv2.findContours(edges, cv2.RETR_EXTERNAL, cv2.CHAIN_APPROX_SIMPLE)\n",
    "\n",
    "# Convert contours to LineString geometries\n",
    "for contour in contours:\n",
    "    if len(contour) > 1:  # Ensure the contour has at least two points\n",
    "        line = LineString([tuple(pt[0]) for pt in contour])\n",
    "        # Convert pixel coordinates to geographic coordinates\n",
    "        line_geo = LineString([rasterio.transform.xy(transform, y, x, offset='center') for x, y in line.coords])\n",
    "        lines_list.append(line_geo)\n",
    "\n",
    "# Create GeoDataFrame and save to file\n",
    "gdf = gpd.GeoDataFrame(geometry=lines_list, crs=crs)\n",
    "gdf.to_file(\"detected_lineaments.shp\")"
   ]
  },
  {
   "cell_type": "code",
   "execution_count": null,
   "metadata": {},
   "outputs": [],
   "source": [
    "from shapely.geometry import LineString\n",
    "import geopandas as gpd\n",
    "import numpy as np\n",
    "\n",
    "def explode_lines_to_segments(gdf):\n",
    "    segments = []\n",
    "    for line in gdf.geometry:\n",
    "        coords = list(line.coords)\n",
    "        for i in range(len(coords) - 1):\n",
    "            segments.append(LineString([coords[i], coords[i+1]]))\n",
    "    return gpd.GeoDataFrame(geometry=segments, crs=gdf.crs)\n",
    "\n",
    "\n",
    "gdf_explode = explode_lines_to_segments(gdf)"
   ]
  },
  {
   "cell_type": "code",
   "execution_count": null,
   "metadata": {},
   "outputs": [],
   "source": [
    "def calculate_orientations(gdf_segments):\n",
    "    def azimuth(line):\n",
    "        x1, y1, x2, y2 = *line.coords[0], *line.coords[1]\n",
    "        angle = np.arctan2((x2 - x1), (y2 - y1)) * 180 / np.pi\n",
    "        return angle % 180  # fold into 0–180°\n",
    "    gdf_segments[\"azimuth\"] = gdf_segments.geometry.apply(azimuth)\n",
    "    return gdf_segments"
   ]
  },
  {
   "cell_type": "code",
   "execution_count": null,
   "metadata": {},
   "outputs": [],
   "source": [
    "gdf_seg = calculate_orientations(gdf_explode)"
   ]
  },
  {
   "cell_type": "code",
   "execution_count": null,
   "metadata": {},
   "outputs": [],
   "source": [
    "azimuths = gdf_seg['azimuth']"
   ]
  },
  {
   "cell_type": "code",
   "execution_count": null,
   "metadata": {},
   "outputs": [],
   "source": [
    "from rasterio.plot import show\n",
    "import geopandas as gpd\n",
    "\n",
    "def plot_gdf_over_raster(raster_path, gdf_seg, ax=None, cmap=\"gray\", gdf_kwargs={}):\n",
    "    \"\"\"\n",
    "    Plot a GeoDataFrame on top of a georeferenced raster.\n",
    "\n",
    "    Parameters:\n",
    "        raster_path (str): Path to the GeoTIFF.\n",
    "        gdf_seg (GeoDataFrame): Line segments to plot.\n",
    "        ax (matplotlib axis): Optional existing axis.\n",
    "        cmap (str): Colormap for the raster.\n",
    "        gdf_kwargs (dict): Additional kwargs to pass to gdf_seg.plot().\n",
    "    \"\"\"\n",
    "    with rasterio.open(raster_path) as src:\n",
    "        fig, ax = plt.subplots(figsize=(10, 8)) if ax is None else (None, ax)\n",
    "        show(src, ax=ax, cmap=cmap)\n",
    "        \n",
    "        # Reproject GeoDataFrame to match raster CRS if needed\n",
    "        if gdf_seg.crs != src.crs:\n",
    "            print(\"Reprojecting gdf_seg to match raster CRS...\")\n",
    "            gdf_seg = gdf_seg.to_crs(src.crs)\n",
    "        \n",
    "        # Plot segments\n",
    "        gdf_seg.plot(ax=ax, **gdf_kwargs)\n",
    "\n",
    "        ax.set_title(\"Segments over Raster\")\n",
    "        ax.axis('off')\n",
    "        if fig is not None:\n",
    "            plt.tight_layout()\n",
    "            plt.show()"
   ]
  },
  {
   "cell_type": "code",
   "execution_count": null,
   "metadata": {},
   "outputs": [
    {
     "name": "stdout",
     "output_type": "stream",
     "text": []
    }
   ],
   "source": [
    "# Make sure mdhs_smooth was saved to disk\n",
    "raster_path = r\"G:\\Lineaments_python\\LM1_10m_mshs.tiff\"\n",
    "\n",
    "plot_gdf_over_raster(\n",
    "    raster_path=raster_path,\n",
    "    gdf_seg=gdf_seg,\n",
    "    gdf_kwargs={\"color\": \"red\", \"linewidth\": 1}\n",
    ")"
   ]
  },
  {
   "cell_type": "code",
   "execution_count": null,
   "metadata": {},
   "outputs": [],
   "source": [
    "from shapely.geometry import LineString\n",
    "from shapely.ops import linemerge\n",
    "from sklearn.neighbors import NearestNeighbors\n",
    "\n",
    "def group_lines_by_azimuth_proximity(gdf, angle_thresh=10, dist_thresh=25):\n",
    "    grouped = []\n",
    "    used = set()\n",
    "\n",
    "    coords = np.array([line.centroid.coords[0] for line in gdf.geometry])\n",
    "    azimuths = gdf['azimuth'].values\n",
    "    lines = gdf.geometry.values\n",
    "\n",
    "    nbrs = NearestNeighbors(radius=dist_thresh).fit(coords)\n",
    "\n",
    "    for i, (line_i, az_i) in enumerate(zip(lines, azimuths)):\n",
    "        if i in used:\n",
    "            continue\n",
    "\n",
    "        group = [line_i]\n",
    "        used.add(i)\n",
    "\n",
    "        indices = nbrs.radius_neighbors([coords[i]], return_distance=False)[0]\n",
    "        for j in indices:\n",
    "            if j == i or j in used:\n",
    "                continue\n",
    "            az_j = azimuths[j]\n",
    "            angle_diff = abs(az_i - az_j) % 180\n",
    "            angle_diff = min(angle_diff, 180 - angle_diff)\n",
    "            if angle_diff <= angle_thresh:\n",
    "                group.append(lines[j])\n",
    "                used.add(j)\n",
    "\n",
    "        grouped.append(group)\n",
    "    return grouped"
   ]
  },
  {
   "cell_type": "code",
   "execution_count": null,
   "metadata": {},
   "outputs": [],
   "source": [
    "def bezier_curve_from_points(points, n_points=100):\n",
    "    \"\"\"\n",
    "    Fit a Bézier curve to a list of (x, y) points using Bernstein polynomials.\n",
    "    \"\"\"\n",
    "    points = np.array(points)\n",
    "    n = len(points) - 1  # degree of Bézier\n",
    "\n",
    "    def bernstein_poly(i, n, t):\n",
    "        from scipy.special import comb\n",
    "        return comb(n, i) * (t ** i) * ((1 - t) ** (n - i))\n",
    "\n",
    "    t = np.linspace(0, 1, n_points)\n",
    "    curve = np.zeros((n_points, 2))\n",
    "    for i in range(n + 1):\n",
    "        curve += np.outer(bernstein_poly(i, n, t), points[i])\n",
    "\n",
    "    return LineString(curve)"
   ]
  },
  {
   "cell_type": "code",
   "execution_count": null,
   "metadata": {},
   "outputs": [],
   "source": [
    "groups = group_lines_by_azimuth_proximity(gdf_seg, angle_thresh=10, dist_thresh=25)\n",
    "smoothed_lines = []\n",
    "\n",
    "for group in groups:\n",
    "    # Gather all endpoints from the 2-point segments in the group\n",
    "    pts = []\n",
    "    for line in group:\n",
    "        coords = list(line.coords)\n",
    "        if not pts or pts[-1] != coords[0]:\n",
    "            pts.extend(coords)\n",
    "        else:\n",
    "            pts.extend(coords[1:])\n",
    "\n",
    "    # Remove duplicate points\n",
    "    pts = [tuple(pt) for i, pt in enumerate(pts) if i == 0 or pt != pts[i-1]]\n",
    "    \n",
    "    if len(pts) < 3:\n",
    "        smoothed_lines.append(LineString(pts))  # just connect\n",
    "    else:\n",
    "        bezier = bezier_curve_from_points(pts)\n",
    "        smoothed_lines.append(bezier)"
   ]
  },
  {
   "cell_type": "code",
   "execution_count": null,
   "metadata": {},
   "outputs": [],
   "source": [
    "\n",
    "\n",
    "gdf_bezier = gpd.GeoDataFrame(geometry=smoothed_lines, crs=gdf.crs)\n",
    "gdf_bezier[\"length_m\"] = gdf_bezier.geometry.length\n",
    "min_length = 50  # meters\n",
    "gdf_filtered = gdf_bezier[gdf_bezier[\"length_m\"] >= min_length].copy()\n"
   ]
  },
  {
   "cell_type": "code",
   "execution_count": null,
   "metadata": {},
   "outputs": [
    {
     "name": "stdout",
     "output_type": "stream",
     "text": []
    }
   ],
   "source": [
    "fig, ax = plt.subplots(figsize=(12, 10))  # width, height in inches\n",
    "gdf_filtered.plot(ax=ax, color='blue', linewidth=1)\n",
    "plt.title(\"Smoothed Lineaments (Bézier)\")\n",
    "plt.axis('off')\n",
    "plt.show()"
   ]
  },
  {
   "cell_type": "code",
   "execution_count": null,
   "metadata": {},
   "outputs": [],
   "source": [
    "import warnings\n",
    "\n",
    "def bspline_from_lines(line_group, smoothing=2, n_points=100):\n",
    "    points = []\n",
    "    for line in line_group:\n",
    "        coords = list(line.coords)\n",
    "        if not points or points[-1] != coords[0]:\n",
    "            points.extend(coords)\n",
    "        else:\n",
    "            points.extend(coords[1:])\n",
    "\n",
    "    if len(points) < 4:\n",
    "        return LineString(points)\n",
    "\n",
    "    x, y = zip(*points)\n",
    "\n",
    "    with warnings.catch_warnings():\n",
    "        warnings.simplefilter('ignore', category=RuntimeWarning)\n",
    "        try:\n",
    "            tck, u = splprep([x, y], s=smoothing)\n",
    "            x_new, y_new = splev(np.linspace(0, 1, n_points), tck)\n",
    "            return LineString(zip(x_new, y_new))\n",
    "        except Exception:\n",
    "            return LineString(points)  # fallback"
   ]
  },
  {
   "cell_type": "code",
   "execution_count": null,
   "metadata": {},
   "outputs": [],
   "source": [
    "smoothed_lines = [bspline_from_lines(group) for group in groups]\n",
    "gdf_smoothed = gpd.GeoDataFrame(geometry=smoothed_lines, crs=gdf.crs)"
   ]
  },
  {
   "cell_type": "code",
   "execution_count": null,
   "metadata": {},
   "outputs": [
    {
     "name": "stdout",
     "output_type": "stream",
     "text": []
    }
   ],
   "source": [
    "fig, ax = plt.subplots(figsize=(12, 10))  # width, height in inches\n",
    "gdf_smoothed.plot(ax=ax, color='blue', linewidth=1)\n",
    "plt.title(\"Smoothed Lineaments (Bézier)\")\n",
    "plt.axis('off')\n",
    "plt.show()"
   ]
  }
 ],
 "metadata": {
  "kernelspec": {
   "display_name": ".venv",
   "language": "python",
   "name": "python3"
  },
  "language_info": {
   "codemirror_mode": {
    "name": "ipython",
    "version": 3
   },
   "file_extension": ".py",
   "mimetype": "text/x-python",
   "name": "python",
   "nbconvert_exporter": "python",
   "pygments_lexer": "ipython3",
   "version": "3.13.1"
  }
 },
 "nbformat": 4,
 "nbformat_minor": 2
}
