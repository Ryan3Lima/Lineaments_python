{
 "cells": [
  {
   "cell_type": "code",
   "execution_count": 14,
   "metadata": {},
   "outputs": [
    {
     "name": "stdout",
     "output_type": "stream",
     "text": [
      "Collecting networkx\n",
      "  Obtaining dependency information for networkx from https://files.pythonhosted.org/packages/b9/54/dd730b32ea14ea797530a4479b2ed46a6fb250f682a9cfb997e968bf0261/networkx-3.4.2-py3-none-any.whl.metadata\n",
      "  Downloading networkx-3.4.2-py3-none-any.whl.metadata (6.3 kB)\n",
      "Downloading networkx-3.4.2-py3-none-any.whl (1.7 MB)\n",
      "   ---------------------------------------- 0.0/1.7 MB ? eta -:--:--\n",
      "   ---------------------------------------- 0.0/1.7 MB ? eta -:--:--\n",
      "   ----- ---------------------------------- 0.2/1.7 MB 3.4 MB/s eta 0:00:01\n",
      "   --------------- ------------------------ 0.7/1.7 MB 6.1 MB/s eta 0:00:01\n",
      "   ------------------------------- -------- 1.4/1.7 MB 8.7 MB/s eta 0:00:01\n",
      "   ---------------------------------------- 1.7/1.7 MB 9.0 MB/s eta 0:00:00\n",
      "Installing collected packages: networkx\n",
      "Successfully installed networkx-3.4.2\n",
      "Note: you may need to restart the kernel to use updated packages.\n"
     ]
    },
    {
     "name": "stderr",
     "output_type": "stream",
     "text": [
      "\n",
      "[notice] A new release of pip is available: 23.2.1 -> 25.0.1\n",
      "[notice] To update, run: python.exe -m pip install --upgrade pip\n"
     ]
    }
   ],
   "source": [
    "%pip install networkx"
   ]
  },
  {
   "cell_type": "code",
   "execution_count": 255,
   "metadata": {},
   "outputs": [],
   "source": [
    "import LineConnect as LC "
   ]
  },
  {
   "cell_type": "code",
   "execution_count": 236,
   "metadata": {},
   "outputs": [],
   "source": [
    "\n",
    "\n",
    "# Create synthetic lines for testing\n",
    "lines = [\n",
    "    LineString([(0, 0), (5, 5)]),   # Line 0\n",
    "    LineString([(5.2, 5.2), (10, 10)]),  # Line 1- near 0, same direction\n",
    "    LineString([(0, 5), (5, 0)]),   # Line 2 - crosses 0, different direction\n",
    "    LineString([(11, 10), (15, 14)]), # Line 3 - far, but same angle\n",
    "    LineString([(6, 7), (6, 11)]),  # Line 4 - parallel/near 1 but vertical\n",
    "    LineString([(5, 7), (5, 11)]),  # Line 5 - vertical, near 1\n",
    "    LineString([(5, 11.5),(6, 15)]),  # Line 6 - \n",
    "    LineString([(10.2, 10.2),(12.2,12.2 )]),  # Line 7  \n",
    "    LineString([(12.5, 12.5), (15.4, 15.2)]), # Line 8\n",
    "    LineString([(6, 12.3), (7, 15.4)]), # Line 9\n",
    "    LineString([(6, 0), (12, 1)]), # Line 10\n",
    "]\n",
    "\n",
    "gdf = gpd.GeoDataFrame(geometry=lines)\n"
   ]
  },
  {
   "cell_type": "code",
   "execution_count": null,
   "metadata": {},
   "outputs": [
    {
     "data": {
      "image/png": "[encoded data removed]",
      "text/plain": [
       "<Figure size 600x600 with 1 Axes>"
      ]
     },
     "metadata": {},
     "output_type": "display_data"
    }
   ],
   "source": [
    "def plot_lines(lines, ax=None):\n",
    "    # Plot the lines\n",
    "    fig, ax = plt.subplots(figsize=(6, 6))\n",
    "    gdf.plot(ax=ax, color='black', linewidth=2)\n",
    "    # Annotate each line with its label\n",
    "    for idx, line in enumerate(gdf.geometry):\n",
    "        x, y = line.coords[0]  # Get the starting point of the line\n",
    "        ax.annotate(str(idx), (x+.1, y+.1), color='blue', fontsize=12, weight='bold')\n",
    "    plt.title(\"Original Line Segments with Annotations\")\n",
    "    plt.axis('equal')\n",
    "    plt.show()"
   ]
  },
  {
   "cell_type": "markdown",
   "metadata": {},
   "source": [
    "### Functions\n",
    "\n",
    "angle_between_lines(line1, line2)\n",
    "        \"\"\"Calculates the absolute angular difference (in degrees) between two lines,\n",
    "        normalized to 0–180° to avoid directionality.\"\"\""
   ]
  },
  {
   "cell_type": "code",
   "execution_count": 314,
   "metadata": {},
   "outputs": [
    {
     "name": "stdout",
     "output_type": "stream",
     "text": [
      "Angle between line 0 and line 2: 90.00 degrees\n"
     ]
    }
   ],
   "source": [
    "## check angle_between_lines() function\n",
    "angle = LC.angle_between_lines(lines[0], lines[2]) # should be 90 degrees\n",
    "\n",
    "print(f\"Angle between line {0} and line {2}: {angle:.2f} degrees\")"
   ]
  },
  {
   "cell_type": "code",
   "execution_count": 315,
   "metadata": {},
   "outputs": [
    {
     "name": "stdout",
     "output_type": "stream",
     "text": [
      "[{'line1': 0, 'line2': 2, 'angle': 90.0, 'entry': 'Angle between line 0 and line 2: 90.00 degrees'}, {'line1': 0, 'line2': 3, 'angle': 0.0, 'entry': 'Angle between line 0 and line 3: 0.00 degrees'}, {'line1': 0, 'line2': 4, 'angle': 45.0, 'entry': 'Angle between line 0 and line 4: 45.00 degrees'}, {'line1': 0, 'line2': 5, 'angle': 45.0, 'entry': 'Angle between line 0 and line 5: 45.00 degrees'}, {'line1': 0, 'line2': 6, 'angle': 29.054604099077153, 'entry': 'Angle between line 0 and line 6: 29.05 degrees'}, {'line1': 0, 'line2': 7, 'angle': 0.0, 'entry': 'Angle between line 0 and line 7: 0.00 degrees'}, {'line1': 0, 'line2': 8, 'angle': 2.04540848888724, 'entry': 'Angle between line 0 and line 8: 2.05 degrees'}, {'line1': 0, 'line2': 9, 'angle': 27.121303404158667, 'entry': 'Angle between line 0 and line 9: 27.12 degrees'}, {'line1': 0, 'line2': 10, 'angle': 35.53767779197438, 'entry': 'Angle between line 0 and line 10: 35.54 degrees'}]\n"
     ]
    }
   ],
   "source": [
    "## now lets get the angle for all line pairs\n",
    "\n",
    "angles_list = [] # initiate an empty list to store the angles\n",
    "\n",
    "for i, line1 in enumerate(lines): # Loop through each line\n",
    "    for j, line2 in enumerate(lines): # Compare with every other line\n",
    "        # Skip the same line or if the lines are not close enough\n",
    "        if i >= j:\n",
    "            continue\n",
    "        angle = LC.angle_between_lines(line1, line2)\n",
    "        entry = f\"Angle between line {i} and line {j}: {angle:.2f} degrees\"\n",
    "        angles_dict = {\n",
    "            'line1': i,\n",
    "            'line2': j,\n",
    "            'angle': angle,\n",
    "            'entry': entry\n",
    "        }\n",
    "        angles_list.append(angles_dict)\n",
    "\n",
    "print(angles_list[1:10])    # Print the first 10 angles for brevity"
   ]
  },
  {
   "cell_type": "markdown",
   "metadata": {},
   "source": [
    "endpoints_close(line1, line2, dist_thresh=1.0)\n",
    "\"\"\"\n",
    "Returns True if any endpoint of line1 is within dist_thresh of any endpoint of line2.\n",
    "\"\"\""
   ]
  },
  {
   "cell_type": "code",
   "execution_count": 316,
   "metadata": {},
   "outputs": [
    {
     "name": "stdout",
     "output_type": "stream",
     "text": [
      "Lines 0 and 1 endpoints within 2.0 units: True\n",
      "Lines 4 and 5 endpoints within 2.0 units: True\n",
      "Lines 0 and 5 endpoints within 2.0 units: False\n",
      "Lines 1 and 3 endpoints within 2.0 units: True\n",
      "Lines 4 and 5 endpoints within 1.0 units: False\n",
      "Lines 5 and 6 endpoints within 0.6 units: True\n"
     ]
    }
   ],
   "source": [
    "\n",
    "bool = LC.endpoints_close(lines[0],lines[1], 2.0) # should be true\n",
    "print(f\"Lines 0 and 1 endpoints within {2.0} units: {bool}\")\n",
    "bool = LC.endpoints_close(lines[4],lines[5],2.0) # should be true \n",
    "print(f\"Lines 4 and 5 endpoints within {2.0} units: {bool}\")\n",
    "bool = LC.endpoints_close(lines[0],lines[5],2.0) # should be false \n",
    "print(f\"Lines 0 and 5 endpoints within {2.0} units: {bool}\")\n",
    "bool = LC.endpoints_close(lines[1],lines[3],2.0) # should be true \n",
    "print(f\"Lines 1 and 3 endpoints within {2.0} units: {bool}\")\n",
    "bool = LC.endpoints_close(lines[4],lines[5],1.0) # should be False notice distance threshold is 1.0\n",
    "print(f\"Lines 4 and 5 endpoints within {1.0} units: {bool}\")\n",
    "bool = LC.endpoints_close(lines[5],lines[6],0.6) # should be True\n",
    "print(f\"Lines 5 and 6 endpoints within {0.6} units: {bool}\")"
   ]
  },
  {
   "cell_type": "markdown",
   "metadata": {},
   "source": [
    "```\n",
    "directional_collinearity_score(line1, line2):\n",
    "    \"\"\"\n",
    "    Computes a 'collinearity score' based on how well line2 continues from line1.\n",
    "    Lower scores mean better directional collinearity.\n",
    "    \"\"\"\n",
    "```"
   ]
  },
  {
   "cell_type": "code",
   "execution_count": 317,
   "metadata": {},
   "outputs": [
    {
     "name": "stdout",
     "output_type": "stream",
     "text": [
      "Directional collinearity score between line 0 and line 1: 0.00\n",
      "Directional collinearity score between line 1 and line 3: 0.77\n",
      "Directional collinearity score between line 4 and line 6: 1.18\n",
      "Directional collinearity score between line 5 and line 6: 0.00\n"
     ]
    }
   ],
   "source": [
    "# do some checks to ensure the collinearity score is working as expected\n",
    "score = LC.directional_collinearity_score(lines[0], lines[1]) # should be 0\n",
    "print(f\"Directional collinearity score between line {0} and line {1}: {score:.2f}\")\n",
    "score = LC.directional_collinearity_score(lines[1], lines[3]) # should be 0.765\n",
    "print(f\"Directional collinearity score between line {1} and line {3}: {score:.2f}\")\n",
    "score = LC.directional_collinearity_score(lines[4], lines[6]) # should be 0\n",
    "print(f\"Directional collinearity score between line {4} and line {6}: {score:.2f}\")\n",
    "score = LC.directional_collinearity_score(lines[5], lines[6]) # should be 0 \n",
    "print(f\"Directional collinearity score between line {5} and line {6}: {score:.2f}\")\n"
   ]
  },
  {
   "cell_type": "markdown",
   "metadata": {},
   "source": [
    "```\n",
    "def is_merge_candidate(line1, line2, angle_thresh=10, dist_thresh=2.0, collinearity_thresh=1.0):\n",
    "    \"\"\"\n",
    "    Uses angle, endpoint proximity, and directional collinearity score.\n",
    "    \"\"\"\n",
    "```"
   ]
  },
  {
   "cell_type": "code",
   "execution_count": 318,
   "metadata": {},
   "outputs": [
    {
     "data": {
      "text/plain": [
       "True"
      ]
     },
     "execution_count": 318,
     "metadata": {},
     "output_type": "execute_result"
    }
   ],
   "source": [
    "is_merge_candidate(lines[0], lines[1],angle_thresh=0.5, dist_thresh=0.3, collinearity_thresh=0.1) # should be true even at very low values"
   ]
  },
  {
   "cell_type": "code",
   "execution_count": 319,
   "metadata": {},
   "outputs": [
    {
     "data": {
      "text/plain": [
       "True"
      ]
     },
     "execution_count": 319,
     "metadata": {},
     "output_type": "execute_result"
    }
   ],
   "source": [
    "is_merge_candidate(lines[1], lines[3],angle_thresh=10, dist_thresh=2.0, collinearity_thresh=1.0)  # should be true"
   ]
  },
  {
   "cell_type": "code",
   "execution_count": 320,
   "metadata": {},
   "outputs": [
    {
     "data": {
      "text/plain": [
       "False"
      ]
     },
     "execution_count": 320,
     "metadata": {},
     "output_type": "execute_result"
    }
   ],
   "source": [
    "is_merge_candidate(lines[1], lines[3],angle_thresh=0, dist_thresh=2.0, collinearity_thresh=0.5) # should be false as we decrease colinearity threshold"
   ]
  },
  {
   "cell_type": "code",
   "execution_count": 321,
   "metadata": {},
   "outputs": [
    {
     "data": {
      "text/plain": [
       "False"
      ]
     },
     "execution_count": 321,
     "metadata": {},
     "output_type": "execute_result"
    }
   ],
   "source": [
    "is_merge_candidate(lines[1], lines[3],angle_thresh=0, dist_thresh=1.0, collinearity_thresh=1) # should be false as we decrease distance threshold"
   ]
  },
  {
   "cell_type": "code",
   "execution_count": 322,
   "metadata": {},
   "outputs": [
    {
     "data": {
      "text/plain": [
       "True"
      ]
     },
     "execution_count": 322,
     "metadata": {},
     "output_type": "execute_result"
    }
   ],
   "source": [
    "is_merge_candidate(lines[4], lines[9],angle_thresh=20, dist_thresh=3, collinearity_thresh=1) # should be false as we decrease distance threshold"
   ]
  },
  {
   "cell_type": "code",
   "execution_count": 323,
   "metadata": {},
   "outputs": [
    {
     "name": "stdout",
     "output_type": "stream",
     "text": [
      "Merge Candidates (by index): [(0, 1), (1, 7), (4, 9), (5, 6), (7, 8)]\n"
     ]
    }
   ],
   "source": [
    "def find_merge_pairs(gdf, angle_thresh=16, dist_thresh=2.0, collinearity_thresh=0.5):\n",
    "    merge_pairs = []\n",
    "    for i, line1 in enumerate(gdf.geometry):\n",
    "        for j, line2 in enumerate(gdf.geometry):\n",
    "            if i >= j:\n",
    "                continue\n",
    "            if is_merge_candidate(line1, line2, angle_thresh, dist_thresh, collinearity_thresh):\n",
    "                merge_pairs.append((i, j))\n",
    "    return merge_pairs\n",
    "\n",
    "merge_pairs = find_merge_pairs(gdf, angle_thresh=20, dist_thresh=3, collinearity_thresh=0.5)\n",
    "print(\"Merge Candidates (by index):\", merge_pairs)"
   ]
  },
  {
   "cell_type": "code",
   "execution_count": 324,
   "metadata": {},
   "outputs": [
    {
     "data": {
      "image/png": "[encoded data removed]",
      "text/plain": [
       "<Figure size 600x600 with 1 Axes>"
      ]
     },
     "metadata": {},
     "output_type": "display_data"
    }
   ],
   "source": [
    "# Highlight merge candidate pairs\n",
    "fig, ax = plt.subplots(figsize=(6, 6))\n",
    "gdf.plot(ax=ax, color='black', linewidth=2)\n",
    "for i, j in merge_pairs:\n",
    "    gdf.iloc[[i, j]].plot(ax=ax, color='red', linewidth=3)\n",
    "plt.title(\"Merge Candidates Highlighted\")\n",
    "plt.axis('equal')\n",
    "plt.show()"
   ]
  },
  {
   "cell_type": "code",
   "execution_count": 325,
   "metadata": {},
   "outputs": [],
   "source": [
    "def connect_lines_by_bridge(lines_to_merge):\n",
    "    endpoints = []\n",
    "    for ln in lines_to_merge:\n",
    "        endpoints.append(Point(ln.coords[0]))\n",
    "        endpoints.append(Point(ln.coords[-1]))\n",
    "\n",
    "    min_dist = float(\"inf\")\n",
    "    pair = (None, None)\n",
    "    for i in range(len(endpoints)):\n",
    "        for j in range(i+1, len(endpoints)):\n",
    "            d = endpoints[i].distance(endpoints[j])\n",
    "            if d < min_dist:\n",
    "                min_dist = d\n",
    "                pair = (endpoints[i], endpoints[j])\n",
    "\n",
    "    connector = LineString([pair[0], pair[1]])\n",
    "    combined = unary_union(lines_to_merge + [connector])\n",
    "    return linemerge(combined), connector"
   ]
  },
  {
   "cell_type": "code",
   "execution_count": 326,
   "metadata": {},
   "outputs": [],
   "source": [
    "def locally_merge_lines(lines, search_dist=10.0, angle_thresh=3, collinearity_thresh=0.5):\n",
    "    lines = list(lines)  # mutable copy\n",
    "    i = 0\n",
    "    while i < len(lines):\n",
    "        line = lines[i]\n",
    "        match_found = False\n",
    "\n",
    "        for j in range(len(lines)):\n",
    "            if i == j:\n",
    "                continue\n",
    "\n",
    "            # Skip if lines are far apart\n",
    "            if line.distance(lines[j]) > search_dist:\n",
    "                continue\n",
    "\n",
    "            # Check angle, collinearity, etc.\n",
    "            if is_merge_candidate(line, lines[j], angle_thresh, dist_thresh=search_dist, collinearity_thresh=collinearity_thresh):\n",
    "                # Build bridge + merged line\n",
    "                merged_line, connector = connect_lines_by_bridge([line, lines[j]])\n",
    "\n",
    "                # Replace line i with merged\n",
    "                lines[i] = merged_line\n",
    "\n",
    "                # Remove line j\n",
    "                lines.pop(j)\n",
    "                match_found = True\n",
    "                break  # restart with updated line[i]\n",
    "\n",
    "        if not match_found:\n",
    "            i += 1  # move to next line\n",
    "\n",
    "    return lines"
   ]
  },
  {
   "cell_type": "code",
   "execution_count": 327,
   "metadata": {},
   "outputs": [],
   "source": [
    "new_merged_lines = locally_merge_lines(lines, search_dist=10.0, angle_thresh=20, collinearity_thresh=0.5)\n",
    "gdf_new = gpd.GeoDataFrame(geometry=new_merged_lines)"
   ]
  },
  {
   "cell_type": "code",
   "execution_count": 328,
   "metadata": {},
   "outputs": [
    {
     "data": {
      "image/png": "[encoded data removed]",
      "text/plain": [
       "<Figure size 600x600 with 1 Axes>"
      ]
     },
     "metadata": {},
     "output_type": "display_data"
    }
   ],
   "source": [
    "# Plot the lines\n",
    "fig, ax = plt.subplots(figsize=(6, 6))\n",
    "gdf_new.plot(ax=ax, color='black', linewidth=2)\n",
    "\n",
    "#labels = ['0', '1', '2', '3', '4', '5','6','7','8']  # Labels for the lines\n",
    "\n",
    "# Annotate each line with its label\n",
    "for idx, line in enumerate(gdf_new.geometry):\n",
    "    x, y = line.coords[0]  # Get the starting point of the line\n",
    "    #ax.annotate(labels[idx], (x, y), color='blue', fontsize=12, weight='bold')\n",
    "\n",
    "plt.title(\"Merged Lines\")\n",
    "plt.axis('equal')\n",
    "plt.show()\n"
   ]
  }
 ],
 "metadata": {
  "kernelspec": {
   "display_name": ".venv",
   "language": "python",
   "name": "python3"
  },
  "language_info": {
   "codemirror_mode": {
    "name": "ipython",
    "version": 3
   },
   "file_extension": ".py",
   "mimetype": "text/x-python",
   "name": "python",
   "nbconvert_exporter": "python",
   "pygments_lexer": "ipython3",
   "version": "3.13.1"
  }
 },
 "nbformat": 4,
 "nbformat_minor": 2
}
