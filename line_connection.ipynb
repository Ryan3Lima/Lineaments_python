{
 "cells": [
  {
   "cell_type": "code",
   "execution_count": 14,
   "metadata": {},
   "outputs": [
    {
     "name": "stdout",
     "output_type": "stream",
     "text": [
      "Collecting networkx\n",
      "  Obtaining dependency information for networkx from https://files.pythonhosted.org/packages/b9/54/dd730b32ea14ea797530a4479b2ed46a6fb250f682a9cfb997e968bf0261/networkx-3.4.2-py3-none-any.whl.metadata\n",
      "  Downloading networkx-3.4.2-py3-none-any.whl.metadata (6.3 kB)\n",
      "Downloading networkx-3.4.2-py3-none-any.whl (1.7 MB)\n",
      "   ---------------------------------------- 0.0/1.7 MB ? eta -:--:--\n",
      "   ---------------------------------------- 0.0/1.7 MB ? eta -:--:--\n",
      "   ----- ---------------------------------- 0.2/1.7 MB 3.4 MB/s eta 0:00:01\n",
      "   --------------- ------------------------ 0.7/1.7 MB 6.1 MB/s eta 0:00:01\n",
      "   ------------------------------- -------- 1.4/1.7 MB 8.7 MB/s eta 0:00:01\n",
      "   ---------------------------------------- 1.7/1.7 MB 9.0 MB/s eta 0:00:00\n",
      "Installing collected packages: networkx\n",
      "Successfully installed networkx-3.4.2\n",
      "Note: you may need to restart the kernel to use updated packages.\n"
     ]
    },
    {
     "name": "stderr",
     "output_type": "stream",
     "text": [
      "\n",
      "[notice] A new release of pip is available: 23.2.1 -> 25.0.1\n",
      "[notice] To update, run: python.exe -m pip install --upgrade pip\n"
     ]
    }
   ],
   "source": [
    "%pip install networkx"
   ]
  },
  {
   "cell_type": "code",
   "execution_count": 1,
   "metadata": {},
   "outputs": [],
   "source": [
    "import geopandas as gpd\n",
    "import matplotlib.pyplot as plt\n",
    "from shapely.geometry import LineString\n"
   ]
  },
  {
   "cell_type": "code",
   "execution_count": 90,
   "metadata": {},
   "outputs": [],
   "source": [
    "\n",
    "\n",
    "# Create synthetic lines for testing\n",
    "lines = [\n",
    "    LineString([(0, 0), (5, 5)]),   # Line A\n",
    "    LineString([(5.2, 5.2), (10, 10)]),  # Line B - near A, same direction\n",
    "    LineString([(0, 5), (5, 0)]),   # Line C - crosses A, different direction\n",
    "    LineString([(11, 10), (15, 14)]), # Line D - far, but same angle\n",
    "    LineString([(6, 7), (6, 11)]),  # Line E - parallel/near B but vertical\n",
    "    LineString([(5, 7), (5, 11)]),  # Line F - vertical, near A\n",
    "    LineString([(5, 11.5),(6, 15)]),  # Line G - horizontal, near A\n",
    "]\n",
    "\n",
    "gdf = gpd.GeoDataFrame(geometry=lines)\n"
   ]
  },
  {
   "cell_type": "code",
   "execution_count": 91,
   "metadata": {},
   "outputs": [
    {
     "data": {
      "image/png": "[encoded data removed]",
      "text/plain": [
       "<Figure size 600x600 with 1 Axes>"
      ]
     },
     "metadata": {},
     "output_type": "display_data"
    }
   ],
   "source": [
    "# Plot the lines\n",
    "fig, ax = plt.subplots(figsize=(6, 6))\n",
    "gdf.plot(ax=ax, color='black', linewidth=2)\n",
    "\n",
    "labels = ['0', '1', '2', '3', '4', '5','6']  # Labels for the lines\n",
    "\n",
    "# Annotate each line with its label\n",
    "for idx, line in enumerate(gdf.geometry):\n",
    "    x, y = line.coords[0]  # Get the starting point of the line\n",
    "    ax.annotate(labels[idx], (x, y), color='blue', fontsize=12, weight='bold')\n",
    "\n",
    "plt.title(\"Original Line Segments with Annotations\")\n",
    "plt.axis('equal')\n",
    "plt.show()\n"
   ]
  },
  {
   "cell_type": "code",
   "execution_count": 56,
   "metadata": {},
   "outputs": [],
   "source": [
    "import math\n",
    "\n",
    "def angle_between_lines(line1, line2):\n",
    "    def get_angle(line):\n",
    "        x0, y0 = line.coords[0]\n",
    "        x1, y1 = line.coords[-1]\n",
    "        dx = x1 - x0\n",
    "        dy = y1 - y0\n",
    "        return math.degrees(math.atan2(dy, dx)) % 180  # modulo 180 to ignore direction\n",
    "\n",
    "    angle1 = get_angle(line1)\n",
    "    angle2 = get_angle(line2)\n",
    "    return abs(angle1 - angle2)\n",
    "\n",
    "\n"
   ]
  },
  {
   "cell_type": "code",
   "execution_count": 57,
   "metadata": {},
   "outputs": [
    {
     "data": {
      "text/plain": [
       "0.0"
      ]
     },
     "execution_count": 57,
     "metadata": {},
     "output_type": "execute_result"
    }
   ],
   "source": [
    "## check angle_between_lines() function\n",
    "angle_between_lines(lines[0], lines[1])"
   ]
  },
  {
   "cell_type": "code",
   "execution_count": 58,
   "metadata": {},
   "outputs": [
    {
     "data": {
      "text/plain": [
       "90.0"
      ]
     },
     "execution_count": 58,
     "metadata": {},
     "output_type": "execute_result"
    }
   ],
   "source": [
    "## check angle_between_lines() function\n",
    "angle_between_lines(lines[0], lines[2]) # should be 90 degrees"
   ]
  },
  {
   "cell_type": "code",
   "execution_count": 59,
   "metadata": {},
   "outputs": [
    {
     "data": {
      "text/plain": [
       "90.0"
      ]
     },
     "execution_count": 59,
     "metadata": {},
     "output_type": "execute_result"
    }
   ],
   "source": [
    "## check angle_between_lines() function\n",
    "angle_between_lines(lines[0], lines[2]) # should be 90 degrees"
   ]
  },
  {
   "cell_type": "code",
   "execution_count": 60,
   "metadata": {},
   "outputs": [
    {
     "data": {
      "text/plain": [
       "0.0"
      ]
     },
     "execution_count": 60,
     "metadata": {},
     "output_type": "execute_result"
    }
   ],
   "source": [
    "## check angle_between_lines() function\n",
    "angle_between_lines(lines[4], lines[5]) # should be 0 degrees"
   ]
  },
  {
   "cell_type": "code",
   "execution_count": null,
   "metadata": {},
   "outputs": [
    {
     "data": {
      "text/plain": [
       "15.945395900922847"
      ]
     },
     "execution_count": 92,
     "metadata": {},
     "output_type": "execute_result"
    }
   ],
   "source": [
    "## check angle_between_lines() function\n",
    "angle_between_lines(lines[5], lines[6]) # should be 15.9 degrees"
   ]
  },
  {
   "cell_type": "code",
   "execution_count": 93,
   "metadata": {},
   "outputs": [
    {
     "data": {
      "text/plain": [
       "15.945395900922847"
      ]
     },
     "execution_count": 93,
     "metadata": {},
     "output_type": "execute_result"
    }
   ],
   "source": [
    "## check angle_between_lines() function\n",
    "angle_between_lines(lines[4], lines[6]) # should be 15.9 degrees"
   ]
  },
  {
   "cell_type": "code",
   "execution_count": 61,
   "metadata": {},
   "outputs": [
    {
     "data": {
      "text/plain": [
       "0.0"
      ]
     },
     "execution_count": 61,
     "metadata": {},
     "output_type": "execute_result"
    }
   ],
   "source": [
    "## check angle_between_lines() function\n",
    "angle_between_lines(lines[1], lines[3]) # should be 0 degrees"
   ]
  },
  {
   "cell_type": "code",
   "execution_count": null,
   "metadata": {},
   "outputs": [
    {
     "data": {
      "text/plain": [
       "0.0"
      ]
     },
     "metadata": {},
     "output_type": "display_data"
    }
   ],
   "source": [
    "## check angle_between_lines() function\n",
    "angle_between_lines(lines[1], lines[3]) # should be 0 degrees"
   ]
  },
  {
   "cell_type": "code",
   "execution_count": 62,
   "metadata": {},
   "outputs": [],
   "source": [
    "from shapely.geometry import Point\n",
    "\n",
    "def endpoints_close(line1, line2, dist_thresh=1.0):\n",
    "    ends1 = [Point(c) for c in [line1.coords[0], line1.coords[-1]]]\n",
    "    ends2 = [Point(c) for c in [line2.coords[0], line2.coords[-1]]]\n",
    "    return any(p1.distance(p2) < dist_thresh for p1 in ends1 for p2 in ends2)\n"
   ]
  },
  {
   "cell_type": "code",
   "execution_count": 63,
   "metadata": {},
   "outputs": [
    {
     "data": {
      "text/plain": [
       "True"
      ]
     },
     "execution_count": 63,
     "metadata": {},
     "output_type": "execute_result"
    }
   ],
   "source": [
    "## Check endpoints_close() function\n",
    "endpoints_close(lines[0],lines[1], 2.0) # should be true\n"
   ]
  },
  {
   "cell_type": "code",
   "execution_count": 64,
   "metadata": {},
   "outputs": [
    {
     "data": {
      "text/plain": [
       "True"
      ]
     },
     "execution_count": 64,
     "metadata": {},
     "output_type": "execute_result"
    }
   ],
   "source": [
    "## Check endpoints_close() function\n",
    "endpoints_close(lines[4],lines[5],2.0) # should be true \n"
   ]
  },
  {
   "cell_type": "code",
   "execution_count": 65,
   "metadata": {},
   "outputs": [
    {
     "data": {
      "text/plain": [
       "False"
      ]
     },
     "execution_count": 65,
     "metadata": {},
     "output_type": "execute_result"
    }
   ],
   "source": [
    "## Check endpoints_close() function\n",
    "endpoints_close(lines[0],lines[5],2.0) # should be false \n"
   ]
  },
  {
   "cell_type": "code",
   "execution_count": 66,
   "metadata": {},
   "outputs": [
    {
     "data": {
      "text/plain": [
       "True"
      ]
     },
     "execution_count": 66,
     "metadata": {},
     "output_type": "execute_result"
    }
   ],
   "source": [
    "## Check endpoints_close() function\n",
    "endpoints_close(lines[1],lines[3],2.0) # should be true \n"
   ]
  },
  {
   "cell_type": "code",
   "execution_count": 84,
   "metadata": {},
   "outputs": [
    {
     "data": {
      "text/plain": [
       "False"
      ]
     },
     "execution_count": 84,
     "metadata": {},
     "output_type": "execute_result"
    }
   ],
   "source": [
    "## Check endpoints_close() function\n",
    "endpoints_close(lines[4],lines[5],1.0) # should be False notice distance threshold is 1.0\n"
   ]
  },
  {
   "cell_type": "code",
   "execution_count": 96,
   "metadata": {},
   "outputs": [
    {
     "data": {
      "text/plain": [
       "True"
      ]
     },
     "execution_count": 96,
     "metadata": {},
     "output_type": "execute_result"
    }
   ],
   "source": [
    "endpoints_close(lines[5],lines[6],0.6) # should be True "
   ]
  },
  {
   "cell_type": "code",
   "execution_count": 119,
   "metadata": {},
   "outputs": [],
   "source": [
    "def directional_collinearity_score(line1, line2):\n",
    "    \"\"\"\n",
    "    Computes a 'collinearity score' based on how well line2 continues from line1.\n",
    "    Lower scores mean better directional collinearity.\n",
    "    \"\"\"\n",
    "    from shapely.geometry import Point\n",
    "    from shapely.ops import nearest_points\n",
    "\n",
    "    # Get end of line1\n",
    "    end1 = Point(line1.coords[-1])\n",
    "    \n",
    "    # Direction vector of line1\n",
    "    dx = line1.coords[-1][0] - line1.coords[0][0]\n",
    "    dy = line1.coords[-1][1] - line1.coords[0][1]\n",
    "    length1 = math.hypot(dx, dy)\n",
    "    if length1 == 0:\n",
    "        return float('inf')  # degenerate line\n",
    "    \n",
    "    ux, uy = dx / length1, dy / length1\n",
    "\n",
    "    # Find closest point on line2 to end of line1\n",
    "    nearest_on_line2 = nearest_points(end1, line2)[1]\n",
    "    d = end1.distance(nearest_on_line2)\n",
    "\n",
    "    # Project line1 forward by d\n",
    "    projected = Point(end1.x + ux * d, end1.y + uy * d)\n",
    "\n",
    "    # Measure how close this projected point is to the *start* of line2\n",
    "    start2 = Point(line2.coords[0])\n",
    "    return projected.distance(start2)"
   ]
  },
  {
   "cell_type": "code",
   "execution_count": null,
   "metadata": {},
   "outputs": [
    {
     "data": {
      "text/plain": [
       "0.0"
      ]
     },
     "execution_count": 120,
     "metadata": {},
     "output_type": "execute_result"
    }
   ],
   "source": [
    "directional_collinearity_score(lines[0], lines[1]) # should be 0\n"
   ]
  },
  {
   "cell_type": "code",
   "execution_count": 121,
   "metadata": {},
   "outputs": [
    {
     "data": {
      "text/plain": [
       "0.7653668647301798"
      ]
     },
     "execution_count": 121,
     "metadata": {},
     "output_type": "execute_result"
    }
   ],
   "source": [
    "directional_collinearity_score(lines[1], lines[3]) # should be 0\n"
   ]
  },
  {
   "cell_type": "code",
   "execution_count": 122,
   "metadata": {},
   "outputs": [
    {
     "data": {
      "text/plain": [
       "5.0990195135927845"
      ]
     },
     "execution_count": 122,
     "metadata": {},
     "output_type": "execute_result"
    }
   ],
   "source": [
    "directional_collinearity_score(lines[5], lines[4]) # should be 0\n"
   ]
  },
  {
   "cell_type": "code",
   "execution_count": 123,
   "metadata": {},
   "outputs": [
    {
     "data": {
      "text/plain": [
       "1.1755705045849463"
      ]
     },
     "execution_count": 123,
     "metadata": {},
     "output_type": "execute_result"
    }
   ],
   "source": [
    "directional_collinearity_score(lines[4], lines[6]) # should be 0\n"
   ]
  },
  {
   "cell_type": "code",
   "execution_count": 125,
   "metadata": {},
   "outputs": [
    {
     "data": {
      "text/plain": [
       "0.0"
      ]
     },
     "execution_count": 125,
     "metadata": {},
     "output_type": "execute_result"
    }
   ],
   "source": [
    "directional_collinearity_score(lines[5], lines[6]) # should be 0\n"
   ]
  },
  {
   "cell_type": "code",
   "execution_count": 127,
   "metadata": {},
   "outputs": [],
   "source": [
    "def is_merge_candidate(line1, line2, angle_thresh=10, dist_thresh=2.0, collinearity_thresh=1.0):\n",
    "    \"\"\"\n",
    "    Uses angle, endpoint proximity, and directional collinearity score.\n",
    "    \"\"\"\n",
    "    if angle_between_lines(line1, line2) > angle_thresh:\n",
    "        return False\n",
    "    if not endpoints_close(line1, line2, dist_thresh):\n",
    "        return False\n",
    "    score = directional_collinearity_score(line1, line2)\n",
    "    return score < collinearity_thresh"
   ]
  },
  {
   "cell_type": "code",
   "execution_count": 133,
   "metadata": {},
   "outputs": [
    {
     "data": {
      "text/plain": [
       "True"
      ]
     },
     "execution_count": 133,
     "metadata": {},
     "output_type": "execute_result"
    }
   ],
   "source": [
    "is_merge_candidate(lines[0], lines[1],angle_thresh=0.5, dist_thresh=0.3, collinearity_thresh=0.1) # should be true even at very low values"
   ]
  },
  {
   "cell_type": "code",
   "execution_count": null,
   "metadata": {},
   "outputs": [
    {
     "data": {
      "text/plain": [
       "True"
      ]
     },
     "execution_count": 139,
     "metadata": {},
     "output_type": "execute_result"
    }
   ],
   "source": [
    "is_merge_candidate(lines[1], lines[3],angle_thresh=10, dist_thresh=2.0, collinearity_thresh=1.0)  # should be true"
   ]
  },
  {
   "cell_type": "code",
   "execution_count": null,
   "metadata": {},
   "outputs": [
    {
     "data": {
      "text/plain": [
       "False"
      ]
     },
     "execution_count": 138,
     "metadata": {},
     "output_type": "execute_result"
    }
   ],
   "source": [
    "is_merge_candidate(lines[1], lines[3],angle_thresh=0, dist_thresh=2.0, collinearity_thresh=0.5) # should be false as we decrease colinearity threshold"
   ]
  },
  {
   "cell_type": "code",
   "execution_count": null,
   "metadata": {},
   "outputs": [
    {
     "data": {
      "text/plain": [
       "False"
      ]
     },
     "execution_count": 137,
     "metadata": {},
     "output_type": "execute_result"
    }
   ],
   "source": [
    "is_merge_candidate(lines[1], lines[3],angle_thresh=0, dist_thresh=1.0, collinearity_thresh=1) # should be false as we decrease distance threshold"
   ]
  },
  {
   "cell_type": "markdown",
   "metadata": {},
   "source": [
    "## STOPED HERE, NEED TO FINISH"
   ]
  },
  {
   "cell_type": "code",
   "execution_count": 23,
   "metadata": {},
   "outputs": [],
   "source": [
    "def extend_line(line, distance=2.0):\n",
    "    from shapely.geometry import LineString\n",
    "    x0, y0 = line.coords[0]\n",
    "    x1, y1 = line.coords[-1]\n",
    "\n",
    "    dx = x1 - x0\n",
    "    dy = y1 - y0\n",
    "    length = math.hypot(dx, dy)\n",
    "    ux = dx / length\n",
    "    uy = dy / length\n",
    "\n",
    "    new_start = (x0 - ux * distance, y0 - uy * distance)\n",
    "    new_end = (x1 + ux * distance, y1 + uy * distance)\n",
    "    return LineString([new_start, new_end])"
   ]
  },
  {
   "cell_type": "code",
   "execution_count": 70,
   "metadata": {},
   "outputs": [
    {
     "name": "stdout",
     "output_type": "stream",
     "text": [
      "Merge Candidates (by index): [(4, 5)]\n"
     ]
    }
   ],
   "source": [
    "# Extend lines for snapping checks only\n",
    "extension_dist = 2.0  # You can tweak this!\n",
    "extended_lines = [extend_line(line, distance=extension_dist) for line in gdf.geometry]\n",
    "\n",
    "merge_pairs = []\n",
    "\n",
    "for i, line1 in enumerate(extended_lines):\n",
    "    for j, line2 in enumerate(extended_lines):\n",
    "        if i >= j:\n",
    "            continue\n",
    "        if is_merge_candidate(line1, line2, angle_thresh=10, dist_thresh=2.0):\n",
    "            merge_pairs.append((i, j))\n",
    "\n",
    "print(\"Merge Candidates (by index):\", merge_pairs)\n"
   ]
  },
  {
   "cell_type": "code",
   "execution_count": 71,
   "metadata": {},
   "outputs": [
    {
     "data": {
      "image/png": "[encoded data removed]",
      "text/plain": [
       "<Figure size 600x600 with 1 Axes>"
      ]
     },
     "metadata": {},
     "output_type": "display_data"
    }
   ],
   "source": [
    "import matplotlib.pyplot as plt\n",
    "\n",
    "# Base plot: all lines in black\n",
    "fig, ax = plt.subplots(figsize=(6, 6))\n",
    "gdf.plot(ax=ax, color='black', linewidth=2)\n",
    "\n",
    "# Highlight merge candidate pairs in red\n",
    "for i, j in merge_pairs:\n",
    "    gdf.iloc[[i, j]].plot(ax=ax, color='red', linewidth=3)\n",
    "\n",
    "plt.title(\"Merge Candidates Highlighted\")\n",
    "plt.axis('equal')\n",
    "plt.show()"
   ]
  },
  {
   "cell_type": "code",
   "execution_count": 72,
   "metadata": {},
   "outputs": [
    {
     "name": "stdout",
     "output_type": "stream",
     "text": [
      "Line groups to merge: [{4, 5}]\n"
     ]
    }
   ],
   "source": [
    "import networkx as nx\n",
    "\n",
    "# Build graph from merge pairs\n",
    "G = nx.Graph()\n",
    "G.add_edges_from(merge_pairs)\n",
    "\n",
    "# Each connected component is a group of indices to merge\n",
    "groups = list(nx.connected_components(G))\n",
    "print(\"Line groups to merge:\", groups)"
   ]
  },
  {
   "cell_type": "code",
   "execution_count": 73,
   "metadata": {},
   "outputs": [],
   "source": [
    "from shapely.ops import linemerge, unary_union\n",
    "\n",
    "merged_lines = []\n",
    "merged_indices = set()\n",
    "\n",
    "for group in nx.connected_components(nx.Graph(merge_pairs)):\n",
    "    group = list(group)\n",
    "    lines_to_merge = [gdf.geometry[i] for i in group]  # original lines\n",
    "    merged = linemerge(unary_union(lines_to_merge))\n",
    "    merged_lines.append(merged)\n",
    "    merged_indices.update(group)\n",
    "\n",
    "# Add unmerged lines\n",
    "unmerged_lines = [gdf.geometry[i] for i in range(len(gdf)) if i not in merged_indices]\n",
    "final_lines = merged_lines + unmerged_lines"
   ]
  },
  {
   "cell_type": "code",
   "execution_count": 74,
   "metadata": {},
   "outputs": [
    {
     "data": {
      "image/png": "[encoded data removed]",
      "text/plain": [
       "<Figure size 600x600 with 1 Axes>"
      ]
     },
     "metadata": {},
     "output_type": "display_data"
    }
   ],
   "source": [
    "merged_gdf = gpd.GeoDataFrame(geometry=final_lines)\n",
    "\n",
    "fig, ax = plt.subplots(figsize=(6, 6))\n",
    "merged_gdf.plot(ax=ax, color='blue', linewidth=2)\n",
    "plt.title(\"Extended + Merged Lineaments\")\n",
    "plt.axis('equal')\n",
    "plt.show()"
   ]
  }
 ],
 "metadata": {
  "kernelspec": {
   "display_name": ".venv",
   "language": "python",
   "name": "python3"
  },
  "language_info": {
   "codemirror_mode": {
    "name": "ipython",
    "version": 3
   },
   "file_extension": ".py",
   "mimetype": "text/x-python",
   "name": "python",
   "nbconvert_exporter": "python",
   "pygments_lexer": "ipython3",
   "version": "3.13.1"
  }
 },
 "nbformat": 4,
 "nbformat_minor": 2
}
